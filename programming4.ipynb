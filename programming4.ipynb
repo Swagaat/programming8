{
  "nbformat": 4,
  "nbformat_minor": 0,
  "metadata": {
    "colab": {
      "provenance": [],
      "authorship_tag": "ABX9TyNyyA+iuk1nlICsQK0JPLtG",
      "include_colab_link": true
    },
    "kernelspec": {
      "name": "python3",
      "display_name": "Python 3"
    },
    "language_info": {
      "name": "python"
    }
  },
  "cells": [
    {
      "cell_type": "markdown",
      "metadata": {
        "id": "view-in-github",
        "colab_type": "text"
      },
      "source": [
        "<a href=\"https://colab.research.google.com/github/Swagaat/programming8/blob/main/programming4.ipynb\" target=\"_parent\"><img src=\"https://colab.research.google.com/assets/colab-badge.svg\" alt=\"Open In Colab\"/></a>"
      ]
    },
    {
      "cell_type": "code",
      "execution_count": 2,
      "metadata": {
        "colab": {
          "base_uri": "https://localhost:8080/"
        },
        "id": "Qcp0uF5kbKzw",
        "outputId": "8a4e3cb3-5e26-4e92-c710-f9653e4c234e"
      },
      "outputs": [
        {
          "output_type": "stream",
          "name": "stdout",
          "text": [
            "90\n"
          ]
        }
      ],
      "source": [
        "#Solution no-1.\n",
        "lst = [10,3,1,9,2]\n",
        "def max_product(lst):\n",
        "   new_list = sorted(lst)\n",
        "   max_left = new_list[0] * new_list[1]\n",
        "   max_right = new_list[-1] * new_list[-2]\n",
        "\n",
        "   if max_right > max_left:\n",
        "    return max_right\n",
        "   else:\n",
        "    return max_left\n",
        "\n",
        "print(max_product(lst))"
      ]
    },
    {
      "cell_type": "code",
      "source": [
        "#Solution no-2.\n",
        "def coords(fn, seq, lower, upper):\n",
        "  return[[x, fn(x)] for x in seq if lower<=fn(x)<=upper]\n",
        "print(coords(lambda x:x**2,[-4,-2,0,1,3], 1,9))"
      ],
      "metadata": {
        "colab": {
          "base_uri": "https://localhost:8080/"
        },
        "id": "BcVG4SFGxcGG",
        "outputId": "16f5db04-8237-4b3b-a21e-c27bed449f2d"
      },
      "execution_count": 3,
      "outputs": [
        {
          "output_type": "stream",
          "name": "stdout",
          "text": [
            "[[-2, 4], [1, 1], [3, 9]]\n"
          ]
        }
      ]
    },
    {
      "cell_type": "code",
      "source": [
        "#solution no-3.\n",
        "l = [-4, 1, -2, 0, 3]\n",
        "def sort():\n",
        " for i in range(len(l)):\n",
        "    for j in range(i + 1, len(l)):\n",
        "\n",
        "        if l[i] > l[j]:\n",
        "           l[i], l[j] = l[j], l[i]\n",
        "sort()\n",
        "print (l)"
      ],
      "metadata": {
        "colab": {
          "base_uri": "https://localhost:8080/"
        },
        "id": "6SGssndnxekb",
        "outputId": "1e9d5bcd-93ad-4df0-d8c9-374c5a3f42fa"
      },
      "execution_count": 1,
      "outputs": [
        {
          "output_type": "stream",
          "name": "stdout",
          "text": [
            "[-4, -2, 0, 1, 3]\n"
          ]
        }
      ]
    },
    {
      "cell_type": "code",
      "source": [
        "#solution no-4.\n",
        "def check(list,element):\n",
        "    for i in list:\n",
        "         if i==element:\n",
        "             return True\n",
        "    return False\n",
        "\n",
        "#initialise list\n",
        "li=[ [1,[2]], 3, [ [4], [5,[6] ] ]   ]\n",
        "\n",
        "print(check(li,6))"
      ],
      "metadata": {
        "colab": {
          "base_uri": "https://localhost:8080/"
        },
        "id": "IrxLk5ySbm5m",
        "outputId": "21c27a1c-1f0a-4a13-f457-4476838d09cd"
      },
      "execution_count": 4,
      "outputs": [
        {
          "output_type": "stream",
          "name": "stdout",
          "text": [
            "False\n"
          ]
        }
      ]
    }
  ]
}