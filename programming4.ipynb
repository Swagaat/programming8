{
  "nbformat": 4,
  "nbformat_minor": 0,
  "metadata": {
    "colab": {
      "provenance": [],
      "authorship_tag": "ABX9TyMCL0BbhjFfHmVRbddwyPPE",
      "include_colab_link": true
    },
    "kernelspec": {
      "name": "python3",
      "display_name": "Python 3"
    },
    "language_info": {
      "name": "python"
    }
  },
  "cells": [
    {
      "cell_type": "markdown",
      "metadata": {
        "id": "view-in-github",
        "colab_type": "text"
      },
      "source": [
        "<a href=\"https://colab.research.google.com/github/Swagaat/programming8/blob/main/programming4.ipynb\" target=\"_parent\"><img src=\"https://colab.research.google.com/assets/colab-badge.svg\" alt=\"Open In Colab\"/></a>"
      ]
    },
    {
      "cell_type": "code",
      "execution_count": 2,
      "metadata": {
        "colab": {
          "base_uri": "https://localhost:8080/"
        },
        "id": "Qcp0uF5kbKzw",
        "outputId": "babe7126-acbb-472e-f0aa-32fa9d4c710f"
      },
      "outputs": [
        {
          "output_type": "stream",
          "name": "stdout",
          "text": [
            "False\n"
          ]
        }
      ],
      "source": [
        "def check(list,element):\n",
        "    for i in list:\n",
        "         if i==element:\n",
        "             return True\n",
        "    return False\n",
        "\n",
        "#initialise list\n",
        "li=[ [1,[2]], 3, [ [4], [5,[6] ] ]   ]\n",
        "\n",
        "print(check(li,6))"
      ]
    },
    {
      "cell_type": "code",
      "source": [
        "l = [-4, 1, -2, 0, 3]\n",
        "\n",
        "for i in range(len(l)):\n",
        "    for j in range(i + 1, len(l)):\n",
        "\n",
        "        if l[i] > l[j]:\n",
        "           l[i], l[j] = l[j], l[i]\n",
        "\n",
        "print (l)"
      ],
      "metadata": {
        "colab": {
          "base_uri": "https://localhost:8080/"
        },
        "id": "IrxLk5ySbm5m",
        "outputId": "b236665e-5b38-4a5e-c346-277fd4f8ab80"
      },
      "execution_count": 3,
      "outputs": [
        {
          "output_type": "stream",
          "name": "stdout",
          "text": [
            "[-4, -2, 0, 1, 3]\n"
          ]
        }
      ]
    }
  ]
}